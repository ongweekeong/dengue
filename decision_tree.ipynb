{
 "cells": [
  {
   "cell_type": "code",
   "execution_count": 1,
   "metadata": {},
   "outputs": [],
   "source": [
    "# install.packages(\"languageserver\")\n",
    "# install.packages(\"languageserversetup\")\n",
    "# install.packages('caret')\n",
    "# install.packages('tree')\n",
    "# install.packages('zoo')"
   ]
  },
  {
   "cell_type": "code",
   "execution_count": 2,
   "metadata": {},
   "outputs": [
    {
     "name": "stderr",
     "output_type": "stream",
     "text": [
      "Loading required package: ggplot2\n",
      "\n",
      "Loading required package: lattice\n",
      "\n"
     ]
    }
   ],
   "source": [
    "library(tree)\n",
    "library(caret)"
   ]
  },
  {
   "cell_type": "code",
   "execution_count": 3,
   "metadata": {},
   "outputs": [],
   "source": [
    "X_train <- read.csv('dengue_features_train_cleaned.csv')"
   ]
  },
  {
   "cell_type": "code",
   "execution_count": 4,
   "metadata": {},
   "outputs": [],
   "source": [
    "train_labels <- read.csv('dengue_labels_train.csv')\n",
    "train_labels$total_cases <- as.numeric(train_labels$total_cases)"
   ]
  },
  {
   "cell_type": "code",
   "execution_count": 5,
   "metadata": {},
   "outputs": [
    {
     "data": {
      "text/plain": [
       "   Min. 1st Qu.  Median    Mean 3rd Qu.    Max. \n",
       "   0.00    9.00   19.00   34.18   37.00  461.00 "
      ]
     },
     "metadata": {},
     "output_type": "display_data"
    },
    {
     "data": {
      "text/plain": [
       "   Min. 1st Qu.  Median    Mean 3rd Qu.    Max. \n",
       "  0.000   1.000   5.000   7.565   9.000 116.000 "
      ]
     },
     "metadata": {},
     "output_type": "display_data"
    }
   ],
   "source": [
    "summary(train_labels$total_cases[train_labels$city == 'sj'])\n",
    "summary(train_labels$total_cases[train_labels$city == 'iq'])"
   ]
  },
  {
   "cell_type": "code",
   "execution_count": 6,
   "metadata": {},
   "outputs": [
    {
     "name": "stderr",
     "output_type": "stream",
     "text": [
      "\n",
      "Attaching package: 'dplyr'\n",
      "\n",
      "\n",
      "The following objects are masked from 'package:stats':\n",
      "\n",
      "    filter, lag\n",
      "\n",
      "\n",
      "The following objects are masked from 'package:base':\n",
      "\n",
      "    intersect, setdiff, setequal, union\n",
      "\n",
      "\n"
     ]
    }
   ],
   "source": [
    "library(dplyr)\n",
    "X <- data.frame(X_train, train_labels$total_cases)\n",
    "sj <- X[X$city == 'sj',]\n",
    "iq <- X[X$city == 'iq',]\n",
    "sj$label <- cut(sj$train_labels.total_cases , breaks = c(0, 19, 37, Inf), labels = c(\"Low\", \"Moderate\", \"High\"), right = FALSE)\n",
    "iq$label <- cut(iq$train_labels.total_cases , breaks = c(0, 5, 9, Inf), labels = c(\"Low\", \"Moderate\", \"High\"), right = FALSE)"
   ]
  },
  {
   "cell_type": "code",
   "execution_count": 7,
   "metadata": {},
   "outputs": [
    {
     "data": {
      "text/html": [
       "<table class=\"dataframe\">\n",
       "<caption>A data.frame: 6 × 27</caption>\n",
       "<thead>\n",
       "\t<tr><th></th><th scope=col>city</th><th scope=col>year</th><th scope=col>weekofyear</th><th scope=col>week_start_date</th><th scope=col>ndvi_ne</th><th scope=col>ndvi_nw</th><th scope=col>ndvi_se</th><th scope=col>ndvi_sw</th><th scope=col>precipitation_amt_mm</th><th scope=col>reanalysis_air_temp_k</th><th scope=col>...</th><th scope=col>reanalysis_specific_humidity_g_per_kg</th><th scope=col>reanalysis_tdtr_k</th><th scope=col>station_avg_temp_c</th><th scope=col>station_diur_temp_rng_c</th><th scope=col>station_max_temp_c</th><th scope=col>station_min_temp_c</th><th scope=col>station_precip_mm</th><th scope=col>train_labels.total_cases</th><th scope=col>label</th><th scope=col>sj</th></tr>\n",
       "\t<tr><th></th><th scope=col>&lt;chr&gt;</th><th scope=col>&lt;int&gt;</th><th scope=col>&lt;int&gt;</th><th scope=col>&lt;chr&gt;</th><th scope=col>&lt;dbl&gt;</th><th scope=col>&lt;dbl&gt;</th><th scope=col>&lt;dbl&gt;</th><th scope=col>&lt;dbl&gt;</th><th scope=col>&lt;dbl&gt;</th><th scope=col>&lt;dbl&gt;</th><th scope=col>...</th><th scope=col>&lt;dbl&gt;</th><th scope=col>&lt;dbl&gt;</th><th scope=col>&lt;dbl&gt;</th><th scope=col>&lt;dbl&gt;</th><th scope=col>&lt;dbl&gt;</th><th scope=col>&lt;dbl&gt;</th><th scope=col>&lt;dbl&gt;</th><th scope=col>&lt;dbl&gt;</th><th scope=col>&lt;fct&gt;</th><th scope=col>&lt;fct&gt;</th></tr>\n",
       "</thead>\n",
       "<tbody>\n",
       "\t<tr><th scope=row>1</th><td>sj</td><td>1990</td><td>18</td><td>30/04/1990</td><td>0.1226000</td><td>0.1037250</td><td>0.1984833</td><td>0.1776167</td><td>12.42</td><td>297.5729</td><td>...</td><td>14.01286</td><td>2.628571</td><td>25.44286</td><td>6.900000</td><td>29.4</td><td>20.0</td><td>16.0</td><td>4</td><td>Low</td><td>1</td></tr>\n",
       "\t<tr><th scope=row>2</th><td>sj</td><td>1990</td><td>19</td><td>07/05/1990</td><td>0.1699000</td><td>0.1421750</td><td>0.1623571</td><td>0.1554857</td><td>22.82</td><td>298.2114</td><td>...</td><td>15.37286</td><td>2.371429</td><td>26.71429</td><td>6.371429</td><td>31.7</td><td>22.2</td><td> 8.6</td><td>5</td><td>Low</td><td>1</td></tr>\n",
       "\t<tr><th scope=row>3</th><td>sj</td><td>1990</td><td>20</td><td>14/05/1990</td><td>0.0322500</td><td>0.1729667</td><td>0.1572000</td><td>0.1708429</td><td>34.54</td><td>298.7814</td><td>...</td><td>16.84857</td><td>2.300000</td><td>26.71429</td><td>6.485714</td><td>32.2</td><td>22.8</td><td>41.4</td><td>4</td><td>Low</td><td>1</td></tr>\n",
       "\t<tr><th scope=row>4</th><td>sj</td><td>1990</td><td>21</td><td>21/05/1990</td><td>0.1286333</td><td>0.2450667</td><td>0.2275571</td><td>0.2358857</td><td>15.36</td><td>298.9871</td><td>...</td><td>16.67286</td><td>2.428571</td><td>27.47143</td><td>6.771429</td><td>33.3</td><td>23.3</td><td> 4.0</td><td>3</td><td>Low</td><td>1</td></tr>\n",
       "\t<tr><th scope=row>5</th><td>sj</td><td>1990</td><td>22</td><td>28/05/1990</td><td>0.1962000</td><td>0.2622000</td><td>0.2512000</td><td>0.2473400</td><td> 7.52</td><td>299.5186</td><td>...</td><td>17.21000</td><td>3.014286</td><td>28.94286</td><td>9.371429</td><td>35.0</td><td>23.9</td><td> 5.8</td><td>6</td><td>Low</td><td>1</td></tr>\n",
       "\t<tr><th scope=row>6</th><td>sj</td><td>1990</td><td>23</td><td>04/06/1990</td><td>0.1545500</td><td>0.1748500</td><td>0.2543143</td><td>0.1817429</td><td> 9.58</td><td>299.6300</td><td>...</td><td>17.21286</td><td>2.100000</td><td>28.11429</td><td>6.942857</td><td>34.4</td><td>23.9</td><td>39.1</td><td>2</td><td>Low</td><td>1</td></tr>\n",
       "</tbody>\n",
       "</table>\n"
      ],
      "text/latex": [
       "A data.frame: 6 × 27\n",
       "\\begin{tabular}{r|lllllllllllllllllllll}\n",
       "  & city & year & weekofyear & week\\_start\\_date & ndvi\\_ne & ndvi\\_nw & ndvi\\_se & ndvi\\_sw & precipitation\\_amt\\_mm & reanalysis\\_air\\_temp\\_k & ... & reanalysis\\_specific\\_humidity\\_g\\_per\\_kg & reanalysis\\_tdtr\\_k & station\\_avg\\_temp\\_c & station\\_diur\\_temp\\_rng\\_c & station\\_max\\_temp\\_c & station\\_min\\_temp\\_c & station\\_precip\\_mm & train\\_labels.total\\_cases & label & sj\\\\\n",
       "  & <chr> & <int> & <int> & <chr> & <dbl> & <dbl> & <dbl> & <dbl> & <dbl> & <dbl> & ... & <dbl> & <dbl> & <dbl> & <dbl> & <dbl> & <dbl> & <dbl> & <dbl> & <fct> & <fct>\\\\\n",
       "\\hline\n",
       "\t1 & sj & 1990 & 18 & 30/04/1990 & 0.1226000 & 0.1037250 & 0.1984833 & 0.1776167 & 12.42 & 297.5729 & ... & 14.01286 & 2.628571 & 25.44286 & 6.900000 & 29.4 & 20.0 & 16.0 & 4 & Low & 1\\\\\n",
       "\t2 & sj & 1990 & 19 & 07/05/1990 & 0.1699000 & 0.1421750 & 0.1623571 & 0.1554857 & 22.82 & 298.2114 & ... & 15.37286 & 2.371429 & 26.71429 & 6.371429 & 31.7 & 22.2 &  8.6 & 5 & Low & 1\\\\\n",
       "\t3 & sj & 1990 & 20 & 14/05/1990 & 0.0322500 & 0.1729667 & 0.1572000 & 0.1708429 & 34.54 & 298.7814 & ... & 16.84857 & 2.300000 & 26.71429 & 6.485714 & 32.2 & 22.8 & 41.4 & 4 & Low & 1\\\\\n",
       "\t4 & sj & 1990 & 21 & 21/05/1990 & 0.1286333 & 0.2450667 & 0.2275571 & 0.2358857 & 15.36 & 298.9871 & ... & 16.67286 & 2.428571 & 27.47143 & 6.771429 & 33.3 & 23.3 &  4.0 & 3 & Low & 1\\\\\n",
       "\t5 & sj & 1990 & 22 & 28/05/1990 & 0.1962000 & 0.2622000 & 0.2512000 & 0.2473400 &  7.52 & 299.5186 & ... & 17.21000 & 3.014286 & 28.94286 & 9.371429 & 35.0 & 23.9 &  5.8 & 6 & Low & 1\\\\\n",
       "\t6 & sj & 1990 & 23 & 04/06/1990 & 0.1545500 & 0.1748500 & 0.2543143 & 0.1817429 &  9.58 & 299.6300 & ... & 17.21286 & 2.100000 & 28.11429 & 6.942857 & 34.4 & 23.9 & 39.1 & 2 & Low & 1\\\\\n",
       "\\end{tabular}\n"
      ],
      "text/markdown": [
       "\n",
       "A data.frame: 6 × 27\n",
       "\n",
       "| <!--/--> | city &lt;chr&gt; | year &lt;int&gt; | weekofyear &lt;int&gt; | week_start_date &lt;chr&gt; | ndvi_ne &lt;dbl&gt; | ndvi_nw &lt;dbl&gt; | ndvi_se &lt;dbl&gt; | ndvi_sw &lt;dbl&gt; | precipitation_amt_mm &lt;dbl&gt; | reanalysis_air_temp_k &lt;dbl&gt; | ... ... | reanalysis_specific_humidity_g_per_kg &lt;dbl&gt; | reanalysis_tdtr_k &lt;dbl&gt; | station_avg_temp_c &lt;dbl&gt; | station_diur_temp_rng_c &lt;dbl&gt; | station_max_temp_c &lt;dbl&gt; | station_min_temp_c &lt;dbl&gt; | station_precip_mm &lt;dbl&gt; | train_labels.total_cases &lt;dbl&gt; | label &lt;fct&gt; | sj &lt;fct&gt; |\n",
       "|---|---|---|---|---|---|---|---|---|---|---|---|---|---|---|---|---|---|---|---|---|---|\n",
       "| 1 | sj | 1990 | 18 | 30/04/1990 | 0.1226000 | 0.1037250 | 0.1984833 | 0.1776167 | 12.42 | 297.5729 | ... | 14.01286 | 2.628571 | 25.44286 | 6.900000 | 29.4 | 20.0 | 16.0 | 4 | Low | 1 |\n",
       "| 2 | sj | 1990 | 19 | 07/05/1990 | 0.1699000 | 0.1421750 | 0.1623571 | 0.1554857 | 22.82 | 298.2114 | ... | 15.37286 | 2.371429 | 26.71429 | 6.371429 | 31.7 | 22.2 |  8.6 | 5 | Low | 1 |\n",
       "| 3 | sj | 1990 | 20 | 14/05/1990 | 0.0322500 | 0.1729667 | 0.1572000 | 0.1708429 | 34.54 | 298.7814 | ... | 16.84857 | 2.300000 | 26.71429 | 6.485714 | 32.2 | 22.8 | 41.4 | 4 | Low | 1 |\n",
       "| 4 | sj | 1990 | 21 | 21/05/1990 | 0.1286333 | 0.2450667 | 0.2275571 | 0.2358857 | 15.36 | 298.9871 | ... | 16.67286 | 2.428571 | 27.47143 | 6.771429 | 33.3 | 23.3 |  4.0 | 3 | Low | 1 |\n",
       "| 5 | sj | 1990 | 22 | 28/05/1990 | 0.1962000 | 0.2622000 | 0.2512000 | 0.2473400 |  7.52 | 299.5186 | ... | 17.21000 | 3.014286 | 28.94286 | 9.371429 | 35.0 | 23.9 |  5.8 | 6 | Low | 1 |\n",
       "| 6 | sj | 1990 | 23 | 04/06/1990 | 0.1545500 | 0.1748500 | 0.2543143 | 0.1817429 |  9.58 | 299.6300 | ... | 17.21286 | 2.100000 | 28.11429 | 6.942857 | 34.4 | 23.9 | 39.1 | 2 | Low | 1 |\n",
       "\n"
      ],
      "text/plain": [
       "  city year weekofyear week_start_date ndvi_ne   ndvi_nw   ndvi_se   ndvi_sw  \n",
       "1 sj   1990 18         30/04/1990      0.1226000 0.1037250 0.1984833 0.1776167\n",
       "2 sj   1990 19         07/05/1990      0.1699000 0.1421750 0.1623571 0.1554857\n",
       "3 sj   1990 20         14/05/1990      0.0322500 0.1729667 0.1572000 0.1708429\n",
       "4 sj   1990 21         21/05/1990      0.1286333 0.2450667 0.2275571 0.2358857\n",
       "5 sj   1990 22         28/05/1990      0.1962000 0.2622000 0.2512000 0.2473400\n",
       "6 sj   1990 23         04/06/1990      0.1545500 0.1748500 0.2543143 0.1817429\n",
       "  precipitation_amt_mm reanalysis_air_temp_k ...\n",
       "1 12.42                297.5729              ...\n",
       "2 22.82                298.2114              ...\n",
       "3 34.54                298.7814              ...\n",
       "4 15.36                298.9871              ...\n",
       "5  7.52                299.5186              ...\n",
       "6  9.58                299.6300              ...\n",
       "  reanalysis_specific_humidity_g_per_kg reanalysis_tdtr_k station_avg_temp_c\n",
       "1 14.01286                              2.628571          25.44286          \n",
       "2 15.37286                              2.371429          26.71429          \n",
       "3 16.84857                              2.300000          26.71429          \n",
       "4 16.67286                              2.428571          27.47143          \n",
       "5 17.21000                              3.014286          28.94286          \n",
       "6 17.21286                              2.100000          28.11429          \n",
       "  station_diur_temp_rng_c station_max_temp_c station_min_temp_c\n",
       "1 6.900000                29.4               20.0              \n",
       "2 6.371429                31.7               22.2              \n",
       "3 6.485714                32.2               22.8              \n",
       "4 6.771429                33.3               23.3              \n",
       "5 9.371429                35.0               23.9              \n",
       "6 6.942857                34.4               23.9              \n",
       "  station_precip_mm train_labels.total_cases label sj\n",
       "1 16.0              4                        Low   1 \n",
       "2  8.6              5                        Low   1 \n",
       "3 41.4              4                        Low   1 \n",
       "4  4.0              3                        Low   1 \n",
       "5  5.8              6                        Low   1 \n",
       "6 39.1              2                        Low   1 "
      ]
     },
     "metadata": {},
     "output_type": "display_data"
    }
   ],
   "source": [
    "X <- rbind(sj, iq)\n",
    "X$sj <- factor(ifelse(X$city == \"sj\", 1, 0))\n",
    "head(X)"
   ]
  },
  {
   "cell_type": "code",
   "execution_count": 8,
   "metadata": {},
   "outputs": [
    {
     "data": {
      "text/plain": [
       "     city                year        weekofyear    week_start_date   \n",
       " Length:520         Min.   :2000   Min.   : 1.00   Length:520        \n",
       " Class :character   1st Qu.:2003   1st Qu.:13.75   Class :character  \n",
       " Mode  :character   Median :2005   Median :26.50   Mode  :character  \n",
       "                    Mean   :2005   Mean   :26.50                     \n",
       "                    3rd Qu.:2007   3rd Qu.:39.25                     \n",
       "                    Max.   :2010   Max.   :53.00                     \n",
       "    ndvi_ne           ndvi_nw           ndvi_se           ndvi_sw       \n",
       " Min.   :0.06173   Min.   :0.03586   Min.   :0.02988   Min.   :0.06418  \n",
       " 1st Qu.:0.19951   1st Qu.:0.17953   1st Qu.:0.19416   1st Qu.:0.20384  \n",
       " Median :0.26353   Median :0.23285   Median :0.24976   Median :0.26187  \n",
       " Mean   :0.26360   Mean   :0.23863   Mean   :0.25000   Mean   :0.26654  \n",
       " 3rd Qu.:0.32002   3rd Qu.:0.29383   3rd Qu.:0.30255   3rd Qu.:0.32488  \n",
       " Max.   :0.50836   Max.   :0.45443   Max.   :0.53831   Max.   :0.54602  \n",
       " precipitation_amt_mm reanalysis_air_temp_k reanalysis_avg_temp_k\n",
       " Min.   :  0.00       Min.   :294.6         Min.   :294.9        \n",
       " 1st Qu.: 39.15       1st Qu.:297.1         1st Qu.:298.2        \n",
       " Median : 60.49       Median :297.8         Median :299.1        \n",
       " Mean   : 64.27       Mean   :297.9         Mean   :299.1        \n",
       " 3rd Qu.: 85.76       3rd Qu.:298.6         3rd Qu.:300.1        \n",
       " Max.   :210.83       Max.   :301.6         Max.   :302.9        \n",
       " reanalysis_dew_point_temp_k reanalysis_max_air_temp_k\n",
       " Min.   :290.1               Min.   :300.0            \n",
       " 1st Qu.:294.6               1st Qu.:305.2            \n",
       " Median :295.9               Median :307.0            \n",
       " Mean   :295.5               Mean   :307.1            \n",
       " 3rd Qu.:296.5               3rd Qu.:308.7            \n",
       " Max.   :298.4               Max.   :314.0            \n",
       " reanalysis_min_air_temp_k reanalysis_precip_amt_kg_per_m2\n",
       " Min.   :286.9             Min.   :  0.00                 \n",
       " 1st Qu.:292.0             1st Qu.: 24.21                 \n",
       " Median :293.1             Median : 46.44                 \n",
       " Mean   :292.9             Mean   : 57.59                 \n",
       " 3rd Qu.:294.2             3rd Qu.: 70.43                 \n",
       " Max.   :296.0             Max.   :362.03                 \n",
       " reanalysis_relative_humidity_percent reanalysis_sat_precip_amt_mm\n",
       " Min.   :57.79                        Min.   :  0.00              \n",
       " 1st Qu.:84.39                        1st Qu.: 39.15              \n",
       " Median :90.92                        Median : 60.49              \n",
       " Mean   :88.66                        Mean   : 64.27              \n",
       " 3rd Qu.:94.56                        3rd Qu.: 85.76              \n",
       " Max.   :98.61                        Max.   :210.83              \n",
       " reanalysis_specific_humidity_g_per_kg reanalysis_tdtr_k station_avg_temp_c\n",
       " Min.   :12.11                         Min.   : 3.714    Min.   :21.40     \n",
       " 1st Qu.:16.12                         1st Qu.: 7.371    1st Qu.:27.00     \n",
       " Median :17.43                         Median : 8.957    Median :27.60     \n",
       " Mean   :17.10                         Mean   : 9.196    Mean   :27.51     \n",
       " 3rd Qu.:18.18                         3rd Qu.:11.004    3rd Qu.:28.07     \n",
       " Max.   :20.46                         Max.   :16.029    Max.   :30.80     \n",
       " station_diur_temp_rng_c station_max_temp_c station_min_temp_c\n",
       " Min.   : 5.20           Min.   :30.10      Min.   :14.70     \n",
       " 1st Qu.: 9.45           1st Qu.:33.20      1st Qu.:20.60     \n",
       " Median :10.52           Median :34.00      Median :21.35     \n",
       " Mean   :10.51           Mean   :33.98      Mean   :21.21     \n",
       " 3rd Qu.:11.61           3rd Qu.:34.90      3rd Qu.:22.00     \n",
       " Max.   :15.80           Max.   :42.20      Max.   :24.20     \n",
       " station_precip_mm train_labels.total_cases      label    \n",
       " Min.   :  0.00    Min.   :  0.000          Low     :253  \n",
       " 1st Qu.: 17.80    1st Qu.:  1.000          Moderate:124  \n",
       " Median : 45.10    Median :  5.000          High    :143  \n",
       " Mean   : 62.01    Mean   :  7.565                        \n",
       " 3rd Qu.: 85.67    3rd Qu.:  9.000                        \n",
       " Max.   :543.30    Max.   :116.000                        "
      ]
     },
     "metadata": {},
     "output_type": "display_data"
    }
   ],
   "source": [
    "summary(iq)"
   ]
  },
  {
   "cell_type": "code",
   "execution_count": 9,
   "metadata": {},
   "outputs": [
    {
     "data": {
      "text/plain": [
       "     city                year        weekofyear    week_start_date   \n",
       " Length:936         Min.   :1990   Min.   : 1.00   Length:936        \n",
       " Class :character   1st Qu.:1994   1st Qu.:13.75   Class :character  \n",
       " Mode  :character   Median :1999   Median :26.50   Mode  :character  \n",
       "                    Mean   :1999   Mean   :26.50                     \n",
       "                    3rd Qu.:2003   3rd Qu.:39.25                     \n",
       "                    Max.   :2008   Max.   :53.00                     \n",
       "    ndvi_ne             ndvi_nw            ndvi_se            ndvi_sw        \n",
       " Min.   :-0.406250   Min.   :-0.45610   Min.   :-0.01553   Min.   :-0.06346  \n",
       " 1st Qu.: 0.004267   1st Qu.: 0.01649   1st Qu.: 0.13894   1st Qu.: 0.12946  \n",
       " Median : 0.058129   Median : 0.06595   Median : 0.17652   Median : 0.16690  \n",
       " Mean   : 0.058096   Mean   : 0.06626   Mean   : 0.17709   Mean   : 0.16609  \n",
       " 3rd Qu.: 0.111223   3rd Qu.: 0.11351   3rd Qu.: 0.21160   3rd Qu.: 0.20226  \n",
       " Max.   : 0.493400   Max.   : 0.43710   Max.   : 0.39313   Max.   : 0.38142  \n",
       " precipitation_amt_mm reanalysis_air_temp_k reanalysis_avg_temp_k\n",
       " Min.   :  0.00       Min.   :295.9         Min.   :296.1        \n",
       " 1st Qu.:  0.00       1st Qu.:298.2         1st Qu.:298.3        \n",
       " Median : 20.77       Median :299.2         Median :299.4        \n",
       " Mean   : 35.39       Mean   :299.2         Mean   :299.3        \n",
       " 3rd Qu.: 52.12       3rd Qu.:300.1         3rd Qu.:300.2        \n",
       " Max.   :390.60       Max.   :302.2         Max.   :302.2        \n",
       " reanalysis_dew_point_temp_k reanalysis_max_air_temp_k\n",
       " Min.   :289.6               Min.   :297.8            \n",
       " 1st Qu.:293.8               1st Qu.:300.4            \n",
       " Median :295.4               Median :301.5            \n",
       " Mean   :295.1               Mean   :301.4            \n",
       " 3rd Qu.:296.4               3rd Qu.:302.4            \n",
       " Max.   :297.8               Max.   :304.3            \n",
       " reanalysis_min_air_temp_k reanalysis_precip_amt_kg_per_m2\n",
       " Min.   :292.6             Min.   :  0.00                 \n",
       " 1st Qu.:296.3             1st Qu.: 10.90                 \n",
       " Median :297.5             Median : 21.30                 \n",
       " Mean   :297.3             Mean   : 30.42                 \n",
       " 3rd Qu.:298.4             3rd Qu.: 36.92                 \n",
       " Max.   :299.9             Max.   :570.50                 \n",
       " reanalysis_relative_humidity_percent reanalysis_sat_precip_amt_mm\n",
       " Min.   :66.74                        Min.   :  0.00              \n",
       " 1st Qu.:76.25                        1st Qu.:  0.00              \n",
       " Median :78.67                        Median : 20.77              \n",
       " Mean   :78.57                        Mean   : 35.39              \n",
       " 3rd Qu.:80.95                        3rd Qu.: 52.12              \n",
       " Max.   :87.58                        Max.   :390.60              \n",
       " reanalysis_specific_humidity_g_per_kg reanalysis_tdtr_k station_avg_temp_c\n",
       " Min.   :11.72                         Min.   :1.357     Min.   :22.84     \n",
       " 1st Qu.:15.23                         1st Qu.:2.157     1st Qu.:25.81     \n",
       " Median :16.83                         Median :2.450     Median :27.21     \n",
       " Mean   :16.55                         Mean   :2.514     Mean   :27.00     \n",
       " 3rd Qu.:17.85                         3rd Qu.:2.789     3rd Qu.:28.18     \n",
       " Max.   :19.44                         Max.   :4.429     Max.   :30.07     \n",
       " station_diur_temp_rng_c station_max_temp_c station_min_temp_c\n",
       " Min.   :4.529           Min.   :26.7       Min.   :17.80     \n",
       " 1st Qu.:6.200           1st Qu.:30.6       1st Qu.:21.70     \n",
       " Median :6.757           Median :31.7       Median :22.80     \n",
       " Mean   :6.754           Mean   :31.6       Mean   :22.59     \n",
       " 3rd Qu.:7.286           3rd Qu.:32.8       3rd Qu.:23.90     \n",
       " Max.   :9.914           Max.   :35.6       Max.   :25.60     \n",
       " station_precip_mm train_labels.total_cases      label    \n",
       " Min.   :  0.00    Min.   :  0.00           Low     :463  \n",
       " 1st Qu.:  6.90    1st Qu.:  9.00           Moderate:232  \n",
       " Median : 17.80    Median : 19.00           High    :241  \n",
       " Mean   : 26.78    Mean   : 34.18                         \n",
       " 3rd Qu.: 35.52    3rd Qu.: 37.00                         \n",
       " Max.   :305.90    Max.   :461.00                         "
      ]
     },
     "metadata": {},
     "output_type": "display_data"
    }
   ],
   "source": [
    "summary(sj)"
   ]
  },
  {
   "cell_type": "code",
   "execution_count": 10,
   "metadata": {},
   "outputs": [
    {
     "name": "stderr",
     "output_type": "stream",
     "text": [
      "Warning message in tree(label ~ . - train_labels.total_cases, sj):\n",
      "\"NAs introduced by coercion\"\n",
      "Warning message in tree(label ~ . - train_labels.total_cases, iq):\n",
      "\"NAs introduced by coercion\"\n",
      "Warning message in tree(label ~ . - train_labels.total_cases, X):\n",
      "\"NAs introduced by coercion\"\n"
     ]
    }
   ],
   "source": [
    "tree.sj <- tree(label ~ . - train_labels.total_cases, sj)\n",
    "tree.iq <- tree(label ~ . - train_labels.total_cases, iq)\n",
    "tree.X <- tree(label ~ . - train_labels.total_cases, X)"
   ]
  },
  {
   "cell_type": "code",
   "execution_count": 11,
   "metadata": {},
   "outputs": [
    {
     "data": {
      "text/plain": [
       "\n",
       "Classification tree:\n",
       "tree(formula = label ~ . - train_labels.total_cases, data = sj)\n",
       "Variables actually used in tree construction:\n",
       "[1] \"weekofyear\"                \"year\"                     \n",
       "[3] \"reanalysis_air_temp_k\"     \"reanalysis_max_air_temp_k\"\n",
       "Number of terminal nodes:  13 \n",
       "Residual mean deviance:  1.338 = 1235 / 923 \n",
       "Misclassification error rate: 0.2863 = 268 / 936 "
      ]
     },
     "metadata": {},
     "output_type": "display_data"
    },
    {
     "data": {
      "text/plain": [
       "\n",
       "Classification tree:\n",
       "tree(formula = label ~ . - train_labels.total_cases, data = iq)\n",
       "Variables actually used in tree construction:\n",
       " [1] \"year\"                                 \n",
       " [2] \"weekofyear\"                           \n",
       " [3] \"ndvi_ne\"                              \n",
       " [4] \"station_precip_mm\"                    \n",
       " [5] \"reanalysis_air_temp_k\"                \n",
       " [6] \"reanalysis_specific_humidity_g_per_kg\"\n",
       " [7] \"reanalysis_relative_humidity_percent\" \n",
       " [8] \"reanalysis_tdtr_k\"                    \n",
       " [9] \"station_max_temp_c\"                   \n",
       "[10] \"precipitation_amt_mm\"                 \n",
       "[11] \"ndvi_se\"                              \n",
       "Number of terminal nodes:  23 \n",
       "Residual mean deviance:  1.067 = 530.3 / 497 \n",
       "Misclassification error rate: 0.2308 = 120 / 520 "
      ]
     },
     "metadata": {},
     "output_type": "display_data"
    },
    {
     "data": {
      "text/plain": [
       "\n",
       "Classification tree:\n",
       "tree(formula = label ~ . - train_labels.total_cases, data = X)\n",
       "Variables actually used in tree construction:\n",
       "[1] \"weekofyear\"                           \n",
       "[2] \"reanalysis_specific_humidity_g_per_kg\"\n",
       "[3] \"year\"                                 \n",
       "[4] \"station_max_temp_c\"                   \n",
       "Number of terminal nodes:  10 \n",
       "Residual mean deviance:  1.681 = 2431 / 1446 \n",
       "Misclassification error rate: 0.3819 = 556 / 1456 "
      ]
     },
     "metadata": {},
     "output_type": "display_data"
    }
   ],
   "source": [
    "summary(tree.sj)\n",
    "summary(tree.iq)\n",
    "summary(tree.X)"
   ]
  },
  {
   "cell_type": "code",
   "execution_count": 12,
   "metadata": {},
   "outputs": [
    {
     "data": {
      "image/png": "[encoded data removed]",
      "text/plain": [
       "plot without title"
      ]
     },
     "metadata": {
      "image/png": {
       "height": 420,
       "width": 420
      }
     },
     "output_type": "display_data"
    },
    {
     "data": {
      "image/png": "[encoded data removed]",
      "text/plain": [
       "plot without title"
      ]
     },
     "metadata": {
      "image/png": {
       "height": 420,
       "width": 420
      }
     },
     "output_type": "display_data"
    },
    {
     "data": {
      "image/png": "[encoded data removed]",
      "text/plain": [
       "plot without title"
      ]
     },
     "metadata": {
      "image/png": {
       "height": 420,
       "width": 420
      }
     },
     "output_type": "display_data"
    }
   ],
   "source": [
    "plot(tree.sj)\n",
    "text(tree.sj)\n",
    "plot(tree.iq)\n",
    "text(tree.iq)\n",
    "plot(tree.X)\n",
    "text(tree.X)"
   ]
  },
  {
   "cell_type": "code",
   "execution_count": 13,
   "metadata": {},
   "outputs": [],
   "source": [
    "set.seed(42)\n",
    "X_train <- sample(1: nrow(X), round(0.8 * nrow(X)))\n",
    "sj_train <- sample(1: nrow(iq), round(0.8 * nrow(iq)))\n",
    "iq_train <- sample(1: nrow(sj), round(0.8 * nrow(sj)))\n",
    "X_test <- X[-X_train,]\n",
    "sj_test <- sj[-sj_train,]\n",
    "iq_test <- iq[-iq_train,]\n",
    "iq_test_labels <- iq$label[-iq_train]\n",
    "sj_test_labels <- sj$label[-sj_train]\n",
    "X_test_labels <- X$label[-X_train]"
   ]
  },
  {
   "cell_type": "code",
   "execution_count": 14,
   "metadata": {},
   "outputs": [
    {
     "name": "stderr",
     "output_type": "stream",
     "text": [
      "Warning message in tree(label ~ . - city - train_labels.total_cases, X, subset = X_train):\n",
      "\"NAs introduced by coercion\"\n",
      "Warning message in tree(label ~ . - train_labels.total_cases, iq, subset = iq_train):\n",
      "\"NAs introduced by coercion\"\n",
      "Warning message in tree(label ~ . - train_labels.total_cases, sj, subset = sj_train):\n",
      "\"NAs introduced by coercion\"\n"
     ]
    }
   ],
   "source": [
    "tree.X <- tree(label ~ . - city - train_labels.total_cases, X, subset = X_train)\n",
    "tree.iq <- tree(label ~ . - train_labels.total_cases, iq, subset = iq_train)\n",
    "tree.sj <- tree(label ~ . - train_labels.total_cases, sj, subset = sj_train)"
   ]
  },
  {
   "cell_type": "code",
   "execution_count": 15,
   "metadata": {},
   "outputs": [
    {
     "name": "stderr",
     "output_type": "stream",
     "text": [
      "Warning message in pred1.tree(object, tree.matrix(newdata)):\n",
      "\"NAs introduced by coercion\"\n"
     ]
    },
    {
     "data": {
      "text/plain": [
       "Confusion Matrix and Statistics\n",
       "\n",
       "          Reference\n",
       "Prediction Low Moderate High\n",
       "  Low      117       35   30\n",
       "  Moderate   6       12   12\n",
       "  High      17       23   39\n",
       "\n",
       "Overall Statistics\n",
       "                                          \n",
       "               Accuracy : 0.5773          \n",
       "                 95% CI : (0.5183, 0.6347)\n",
       "    No Information Rate : 0.4811          \n",
       "    P-Value [Acc > NIR] : 0.0006228       \n",
       "                                          \n",
       "                  Kappa : 0.2941          \n",
       "                                          \n",
       " Mcnemar's Test P-Value : 4.481e-06       \n",
       "\n",
       "Statistics by Class:\n",
       "\n",
       "                     Class: Low Class: Moderate Class: High\n",
       "Sensitivity              0.8357         0.17143      0.4815\n",
       "Specificity              0.5695         0.91855      0.8095\n",
       "Pos Pred Value           0.6429         0.40000      0.4937\n",
       "Neg Pred Value           0.7890         0.77778      0.8019\n",
       "Prevalence               0.4811         0.24055      0.2784\n",
       "Detection Rate           0.4021         0.04124      0.1340\n",
       "Detection Prevalence     0.6254         0.10309      0.2715\n",
       "Balanced Accuracy        0.7026         0.54499      0.6455"
      ]
     },
     "metadata": {},
     "output_type": "display_data"
    },
    {
     "name": "stderr",
     "output_type": "stream",
     "text": [
      "Warning message in pred1.tree(object, tree.matrix(newdata)):\n",
      "\"NAs introduced by coercion\"\n"
     ]
    },
    {
     "data": {
      "text/plain": [
       "Confusion Matrix and Statistics\n",
       "\n",
       "          Reference\n",
       "Prediction Low Moderate High\n",
       "  Low      115       23    8\n",
       "  Moderate 101       21   11\n",
       "  High     109       58   74\n",
       "\n",
       "Overall Statistics\n",
       "                                          \n",
       "               Accuracy : 0.4038          \n",
       "                 95% CI : (0.3614, 0.4474)\n",
       "    No Information Rate : 0.625           \n",
       "    P-Value [Acc > NIR] : 1               \n",
       "                                          \n",
       "                  Kappa : 0.1378          \n",
       "                                          \n",
       " Mcnemar's Test P-Value : <2e-16          \n",
       "\n",
       "Statistics by Class:\n",
       "\n",
       "                     Class: Low Class: Moderate Class: High\n",
       "Sensitivity              0.3538         0.20588      0.7957\n",
       "Specificity              0.8410         0.73206      0.6089\n",
       "Pos Pred Value           0.7877         0.15789      0.3071\n",
       "Neg Pred Value           0.4385         0.79070      0.9319\n",
       "Prevalence               0.6250         0.19615      0.1788\n",
       "Detection Rate           0.2212         0.04038      0.1423\n",
       "Detection Prevalence     0.2808         0.25577      0.4635\n",
       "Balanced Accuracy        0.5974         0.46897      0.7023"
      ]
     },
     "metadata": {},
     "output_type": "display_data"
    },
    {
     "name": "stderr",
     "output_type": "stream",
     "text": [
      "Warning message in pred1.tree(object, tree.matrix(newdata)):\n",
      "\"NAs introduced by coercion\"\n"
     ]
    },
    {
     "data": {
      "text/plain": [
       "Confusion Matrix and Statistics\n",
       "\n",
       "          Reference\n",
       "Prediction Low Moderate High\n",
       "  Low       31        8    6\n",
       "  Moderate   8        9    4\n",
       "  High       9       11   18\n",
       "\n",
       "Overall Statistics\n",
       "                                        \n",
       "               Accuracy : 0.5577        \n",
       "                 95% CI : (0.457, 0.655)\n",
       "    No Information Rate : 0.4615        \n",
       "    P-Value [Acc > NIR] : 0.03101       \n",
       "                                        \n",
       "                  Kappa : 0.317         \n",
       "                                        \n",
       " Mcnemar's Test P-Value : 0.27623       \n",
       "\n",
       "Statistics by Class:\n",
       "\n",
       "                     Class: Low Class: Moderate Class: High\n",
       "Sensitivity              0.6458         0.32143      0.6429\n",
       "Specificity              0.7500         0.84211      0.7368\n",
       "Pos Pred Value           0.6889         0.42857      0.4737\n",
       "Neg Pred Value           0.7119         0.77108      0.8485\n",
       "Prevalence               0.4615         0.26923      0.2692\n",
       "Detection Rate           0.2981         0.08654      0.1731\n",
       "Detection Prevalence     0.4327         0.20192      0.3654\n",
       "Balanced Accuracy        0.6979         0.58177      0.6898"
      ]
     },
     "metadata": {},
     "output_type": "display_data"
    }
   ],
   "source": [
    "tree.X_pred <- predict(tree.X, X_test, type = \"class\")\n",
    "confusionMatrix(tree.X_pred, X_test_labels)\n",
    "tree.sj_pred <- predict(tree.sj, sj_test, type = \"class\")\n",
    "confusionMatrix(tree.sj_pred, sj_test_labels)\n",
    "tree.iq_pred <- predict(tree.iq, iq_test, type = \"class\")\n",
    "confusionMatrix(tree.iq_pred, iq_test_labels)"
   ]
  },
  {
   "cell_type": "code",
   "execution_count": 16,
   "metadata": {},
   "outputs": [
    {
     "name": "stderr",
     "output_type": "stream",
     "text": [
      "Warning message in tree(model = m[rand != i, , drop = FALSE]):\n",
      "\"NAs introduced by coercion\"\n",
      "Warning message in pred1.tree(tree, tree.matrix(nd)):\n",
      "\"NAs introduced by coercion\"\n",
      "Warning message in tree(model = m[rand != i, , drop = FALSE]):\n",
      "\"NAs introduced by coercion\"\n",
      "Warning message in pred1.tree(tree, tree.matrix(nd)):\n",
      "\"NAs introduced by coercion\"\n",
      "Warning message in tree(model = m[rand != i, , drop = FALSE]):\n",
      "\"NAs introduced by coercion\"\n",
      "Warning message in pred1.tree(tree, tree.matrix(nd)):\n",
      "\"NAs introduced by coercion\"\n",
      "Warning message in tree(model = m[rand != i, , drop = FALSE]):\n",
      "\"NAs introduced by coercion\"\n",
      "Warning message in pred1.tree(tree, tree.matrix(nd)):\n",
      "\"NAs introduced by coercion\"\n",
      "Warning message in tree(model = m[rand != i, , drop = FALSE]):\n",
      "\"NAs introduced by coercion\"\n",
      "Warning message in pred1.tree(tree, tree.matrix(nd)):\n",
      "\"NAs introduced by coercion\"\n",
      "Warning message in tree(model = m[rand != i, , drop = FALSE]):\n",
      "\"NAs introduced by coercion\"\n",
      "Warning message in pred1.tree(tree, tree.matrix(nd)):\n",
      "\"NAs introduced by coercion\"\n",
      "Warning message in tree(model = m[rand != i, , drop = FALSE]):\n",
      "\"NAs introduced by coercion\"\n",
      "Warning message in pred1.tree(tree, tree.matrix(nd)):\n",
      "\"NAs introduced by coercion\"\n",
      "Warning message in tree(model = m[rand != i, , drop = FALSE]):\n",
      "\"NAs introduced by coercion\"\n",
      "Warning message in pred1.tree(tree, tree.matrix(nd)):\n",
      "\"NAs introduced by coercion\"\n",
      "Warning message in tree(model = m[rand != i, , drop = FALSE]):\n",
      "\"NAs introduced by coercion\"\n",
      "Warning message in pred1.tree(tree, tree.matrix(nd)):\n",
      "\"NAs introduced by coercion\"\n",
      "Warning message in tree(model = m[rand != i, , drop = FALSE]):\n",
      "\"NAs introduced by coercion\"\n",
      "Warning message in pred1.tree(tree, tree.matrix(nd)):\n",
      "\"NAs introduced by coercion\"\n",
      "Warning message in tree(model = m[rand != i, , drop = FALSE]):\n",
      "\"NAs introduced by coercion\"\n",
      "Warning message in pred1.tree(tree, tree.matrix(nd)):\n",
      "\"NAs introduced by coercion\"\n",
      "Warning message in tree(model = m[rand != i, , drop = FALSE]):\n",
      "\"NAs introduced by coercion\"\n",
      "Warning message in pred1.tree(tree, tree.matrix(nd)):\n",
      "\"NAs introduced by coercion\"\n",
      "Warning message in tree(model = m[rand != i, , drop = FALSE]):\n",
      "\"NAs introduced by coercion\"\n",
      "Warning message in pred1.tree(tree, tree.matrix(nd)):\n",
      "\"NAs introduced by coercion\"\n",
      "Warning message in tree(model = m[rand != i, , drop = FALSE]):\n",
      "\"NAs introduced by coercion\"\n",
      "Warning message in pred1.tree(tree, tree.matrix(nd)):\n",
      "\"NAs introduced by coercion\"\n",
      "Warning message in tree(model = m[rand != i, , drop = FALSE]):\n",
      "\"NAs introduced by coercion\"\n",
      "Warning message in pred1.tree(tree, tree.matrix(nd)):\n",
      "\"NAs introduced by coercion\"\n",
      "Warning message in tree(model = m[rand != i, , drop = FALSE]):\n",
      "\"NAs introduced by coercion\"\n",
      "Warning message in pred1.tree(tree, tree.matrix(nd)):\n",
      "\"NAs introduced by coercion\"\n",
      "Warning message in tree(model = m[rand != i, , drop = FALSE]):\n",
      "\"NAs introduced by coercion\"\n",
      "Warning message in pred1.tree(tree, tree.matrix(nd)):\n",
      "\"NAs introduced by coercion\"\n",
      "Warning message in tree(model = m[rand != i, , drop = FALSE]):\n",
      "\"NAs introduced by coercion\"\n",
      "Warning message in pred1.tree(tree, tree.matrix(nd)):\n",
      "\"NAs introduced by coercion\"\n",
      "Warning message in tree(model = m[rand != i, , drop = FALSE]):\n",
      "\"NAs introduced by coercion\"\n",
      "Warning message in pred1.tree(tree, tree.matrix(nd)):\n",
      "\"NAs introduced by coercion\"\n",
      "Warning message in tree(model = m[rand != i, , drop = FALSE]):\n",
      "\"NAs introduced by coercion\"\n",
      "Warning message in pred1.tree(tree, tree.matrix(nd)):\n",
      "\"NAs introduced by coercion\"\n",
      "Warning message in tree(model = m[rand != i, , drop = FALSE]):\n",
      "\"NAs introduced by coercion\"\n",
      "Warning message in pred1.tree(tree, tree.matrix(nd)):\n",
      "\"NAs introduced by coercion\"\n",
      "Warning message in tree(model = m[rand != i, , drop = FALSE]):\n",
      "\"NAs introduced by coercion\"\n",
      "Warning message in pred1.tree(tree, tree.matrix(nd)):\n",
      "\"NAs introduced by coercion\"\n",
      "Warning message in tree(model = m[rand != i, , drop = FALSE]):\n",
      "\"NAs introduced by coercion\"\n",
      "Warning message in pred1.tree(tree, tree.matrix(nd)):\n",
      "\"NAs introduced by coercion\"\n",
      "Warning message in tree(model = m[rand != i, , drop = FALSE]):\n",
      "\"NAs introduced by coercion\"\n",
      "Warning message in pred1.tree(tree, tree.matrix(nd)):\n",
      "\"NAs introduced by coercion\"\n",
      "Warning message in tree(model = m[rand != i, , drop = FALSE]):\n",
      "\"NAs introduced by coercion\"\n",
      "Warning message in pred1.tree(tree, tree.matrix(nd)):\n",
      "\"NAs introduced by coercion\"\n",
      "Warning message in tree(model = m[rand != i, , drop = FALSE]):\n",
      "\"NAs introduced by coercion\"\n",
      "Warning message in pred1.tree(tree, tree.matrix(nd)):\n",
      "\"NAs introduced by coercion\"\n",
      "Warning message in tree(model = m[rand != i, , drop = FALSE]):\n",
      "\"NAs introduced by coercion\"\n",
      "Warning message in pred1.tree(tree, tree.matrix(nd)):\n",
      "\"NAs introduced by coercion\"\n",
      "Warning message in tree(model = m[rand != i, , drop = FALSE]):\n",
      "\"NAs introduced by coercion\"\n",
      "Warning message in pred1.tree(tree, tree.matrix(nd)):\n",
      "\"NAs introduced by coercion\"\n",
      "Warning message in tree(model = m[rand != i, , drop = FALSE]):\n",
      "\"NAs introduced by coercion\"\n",
      "Warning message in pred1.tree(tree, tree.matrix(nd)):\n",
      "\"NAs introduced by coercion\"\n",
      "Warning message in tree(model = m[rand != i, , drop = FALSE]):\n",
      "\"NAs introduced by coercion\"\n",
      "Warning message in pred1.tree(tree, tree.matrix(nd)):\n",
      "\"NAs introduced by coercion\"\n"
     ]
    }
   ],
   "source": [
    "set.seed(42)\n",
    "cv.sj <- cv.tree(tree.sj, FUN = prune.misclass)\n",
    "cv.iq <- cv.tree(tree.iq, FUN = prune.misclass)\n",
    "cv.X <- cv.tree(tree.X,  FUN = prune.misclass)"
   ]
  },
  {
   "cell_type": "code",
   "execution_count": 17,
   "metadata": {},
   "outputs": [
    {
     "data": {
      "text/plain": [
       "$size\n",
       "[1] 26 25 24 23 12 10  4  3  1\n",
       "\n",
       "$dev\n",
       "[1] 163 168 168 171 175 166 171 198 211\n",
       "\n",
       "$k\n",
       "[1]      -Inf  0.000000  1.000000  2.000000  3.000000  4.000000  5.833333\n",
       "[8] 18.000000 20.000000\n",
       "\n",
       "$method\n",
       "[1] \"misclass\"\n",
       "\n",
       "attr(,\"class\")\n",
       "[1] \"prune\"         \"tree.sequence\""
      ]
     },
     "metadata": {},
     "output_type": "display_data"
    }
   ],
   "source": [
    "cv.iq"
   ]
  },
  {
   "cell_type": "code",
   "execution_count": 18,
   "metadata": {},
   "outputs": [
    {
     "data": {
      "text/plain": [
       "$size\n",
       " [1] 27 23 22 20 19 17 15 14 13 10  8  4  3  2  1\n",
       "\n",
       "$dev\n",
       " [1] 130 130 131 131 132 130 124 131 141 141 159 159 173 191 268\n",
       "\n",
       "$k\n",
       " [1]      -Inf  0.000000  1.000000  1.500000  2.000000  2.500000  3.000000\n",
       " [8]  4.000000  5.000000  5.333333  7.500000  8.000000 11.000000 18.000000\n",
       "[15] 82.000000\n",
       "\n",
       "$method\n",
       "[1] \"misclass\"\n",
       "\n",
       "attr(,\"class\")\n",
       "[1] \"prune\"         \"tree.sequence\""
      ]
     },
     "metadata": {},
     "output_type": "display_data"
    }
   ],
   "source": [
    "cv.sj"
   ]
  },
  {
   "cell_type": "code",
   "execution_count": 19,
   "metadata": {},
   "outputs": [
    {
     "data": {
      "text/plain": [
       "$size\n",
       "[1] 13 10  7  4  3  2  1\n",
       "\n",
       "$dev\n",
       "[1] 475 475 463 474 529 576 592\n",
       "\n",
       "$k\n",
       "[1] -Inf    0    6   11   22   36   46\n",
       "\n",
       "$method\n",
       "[1] \"misclass\"\n",
       "\n",
       "attr(,\"class\")\n",
       "[1] \"prune\"         \"tree.sequence\""
      ]
     },
     "metadata": {},
     "output_type": "display_data"
    }
   ],
   "source": [
    "cv.X"
   ]
  },
  {
   "cell_type": "code",
   "execution_count": 20,
   "metadata": {},
   "outputs": [
    {
     "data": {
      "image/png": "[encoded data removed]",
      "text/plain": [
       "plot without title"
      ]
     },
     "metadata": {
      "image/png": {
       "height": 420,
       "width": 420
      }
     },
     "output_type": "display_data"
    }
   ],
   "source": [
    "par(mfrow = c(3, 2))\n",
    "plot(cv.iq$size, cv.iq$dev, type = \"b\")\n",
    "plot(cv.iq$k, cv.iq$dev, type = \"b\")\n",
    "plot(cv.sj$size, cv.sj$dev, type = \"b\")\n",
    "plot(cv.sj$k, cv.sj$dev, type = \"b\")\n",
    "plot(cv.X$size, cv.X$dev, type = \"b\")\n",
    "plot(cv.X$k, cv.X$dev, type = \"b\")"
   ]
  },
  {
   "cell_type": "code",
   "execution_count": 21,
   "metadata": {},
   "outputs": [
    {
     "data": {
      "image/png": "[encoded data removed]",
      "text/plain": [
       "plot without title"
      ]
     },
     "metadata": {
      "image/png": {
       "height": 420,
       "width": 420
      }
     },
     "output_type": "display_data"
    },
    {
     "data": {
      "image/png": "[encoded data removed]",
      "text/plain": [
       "plot without title"
      ]
     },
     "metadata": {
      "image/png": {
       "height": 420,
       "width": 420
      }
     },
     "output_type": "display_data"
    },
    {
     "data": {
      "image/png": "[encoded data removed]",
      "text/plain": [
       "plot without title"
      ]
     },
     "metadata": {
      "image/png": {
       "height": 420,
       "width": 420
      }
     },
     "output_type": "display_data"
    }
   ],
   "source": [
    "prune.sj <- prune.misclass(tree.sj, best = 15)\n",
    "plot(prune.sj)\n",
    "text(prune.sj, pretty = 0)\n",
    "prune.iq <- prune.misclass(tree.iq, best = 10)\n",
    "plot(prune.iq)\n",
    "text(prune.iq, pretty = 0)\n",
    "prune.X <- prune.misclass(tree.X, best = 7)\n",
    "plot(prune.X)\n",
    "text(prune.X, pretty = 0)"
   ]
  },
  {
   "cell_type": "code",
   "execution_count": 22,
   "metadata": {},
   "outputs": [
    {
     "name": "stderr",
     "output_type": "stream",
     "text": [
      "Warning message in pred1.tree(object, tree.matrix(newdata)):\n",
      "\"NAs introduced by coercion\"\n"
     ]
    },
    {
     "data": {
      "text/plain": [
       "           X_test_labels\n",
       "tree.X_pred Low Moderate High\n",
       "   Low      122       41   35\n",
       "   Moderate   2        7    9\n",
       "   High      16       22   37"
      ]
     },
     "metadata": {},
     "output_type": "display_data"
    },
    {
     "name": "stderr",
     "output_type": "stream",
     "text": [
      "Warning message in pred1.tree(object, tree.matrix(newdata)):\n",
      "\"NAs introduced by coercion\"\n"
     ]
    },
    {
     "data": {
      "text/plain": [
       "            sj_test_labels\n",
       "tree.sj_pred Low Moderate High\n",
       "    Low      205       26    9\n",
       "    Moderate   3       15    8\n",
       "    High     117       61   76"
      ]
     },
     "metadata": {},
     "output_type": "display_data"
    },
    {
     "name": "stderr",
     "output_type": "stream",
     "text": [
      "Warning message in pred1.tree(object, tree.matrix(newdata)):\n",
      "\"NAs introduced by coercion\"\n"
     ]
    },
    {
     "data": {
      "text/plain": [
       "            iq_test_labels\n",
       "tree.iq_pred Low Moderate High\n",
       "    Low       37       11    5\n",
       "    Moderate   1        1    0\n",
       "    High      10       16   23"
      ]
     },
     "metadata": {},
     "output_type": "display_data"
    }
   ],
   "source": [
    "tree.X_pred <- predict(prune.X, X_test, type = \"class\")\n",
    "table(tree.X_pred, X_test_labels)\n",
    "tree.sj_pred <- predict(prune.sj, sj_test, type = \"class\")\n",
    "table(tree.sj_pred, sj_test_labels)\n",
    "tree.iq_pred <- predict(prune.iq, iq_test, type = \"class\")\n",
    "table(tree.iq_pred, iq_test_labels)"
   ]
  },
  {
   "cell_type": "code",
   "execution_count": 23,
   "metadata": {},
   "outputs": [
    {
     "data": {
      "text/plain": [
       "\n",
       "Classification tree:\n",
       "snip.tree(tree = tree.X, nodes = c(7L, 9L))\n",
       "Variables actually used in tree construction:\n",
       "[1] \"weekofyear\"                           \n",
       "[2] \"reanalysis_specific_humidity_g_per_kg\"\n",
       "[3] \"year\"                                 \n",
       "Number of terminal nodes:  7 \n",
       "Residual mean deviance:  1.736 = 2010 / 1158 \n",
       "Misclassification error rate: 0.388 = 452 / 1165 "
      ]
     },
     "metadata": {},
     "output_type": "display_data"
    },
    {
     "data": {
      "text/plain": [
       "\n",
       "Classification tree:\n",
       "snip.tree(tree = tree.iq, nodes = c(6L, 125L, 253L, 14L, 505L\n",
       "))\n",
       "Variables actually used in tree construction:\n",
       "[1] \"year\"                                 \n",
       "[2] \"weekofyear\"                           \n",
       "[3] \"reanalysis_specific_humidity_g_per_kg\"\n",
       "[4] \"station_min_temp_c\"                   \n",
       "[5] \"ndvi_sw\"                              \n",
       "Number of terminal nodes:  10 \n",
       "Residual mean deviance:  1.371 = 556.5 / 406 \n",
       "Misclassification error rate: 0.2837 = 118 / 416 "
      ]
     },
     "metadata": {},
     "output_type": "display_data"
    },
    {
     "data": {
      "text/plain": [
       "\n",
       "Classification tree:\n",
       "snip.tree(tree = tree.sj, nodes = c(8L, 21L, 29L, 82L, 15L, 9L, \n",
       "6L, 23L, 83L))\n",
       "Variables actually used in tree construction:\n",
       "[1] \"weekofyear\"        \"year\"              \"station_precip_mm\"\n",
       "Number of terminal nodes:  15 \n",
       "Residual mean deviance:  1.103 = 442.5 / 401 \n",
       "Misclassification error rate: 0.2043 = 85 / 416 "
      ]
     },
     "metadata": {},
     "output_type": "display_data"
    }
   ],
   "source": [
    "summary(prune.X)\n",
    "summary(prune.iq)\n",
    "summary(prune.sj)"
   ]
  },
  {
   "cell_type": "code",
   "execution_count": 24,
   "metadata": {},
   "outputs": [
    {
     "data": {
      "text/plain": [
       "Confusion Matrix and Statistics\n",
       "\n",
       "          Reference\n",
       "Prediction Low Moderate High\n",
       "  Low       37        1   10\n",
       "  Moderate  11        1   16\n",
       "  High       5        0   23\n",
       "\n",
       "Overall Statistics\n",
       "                                          \n",
       "               Accuracy : 0.5865          \n",
       "                 95% CI : (0.4858, 0.6823)\n",
       "    No Information Rate : 0.5096          \n",
       "    P-Value [Acc > NIR] : 0.07034         \n",
       "                                          \n",
       "                  Kappa : 0.3466          \n",
       "                                          \n",
       " Mcnemar's Test P-Value : 9.537e-06       \n",
       "\n",
       "Statistics by Class:\n",
       "\n",
       "                     Class: Low Class: Moderate Class: High\n",
       "Sensitivity              0.6981        0.500000      0.4694\n",
       "Specificity              0.7843        0.735294      0.9091\n",
       "Pos Pred Value           0.7708        0.035714      0.8214\n",
       "Neg Pred Value           0.7143        0.986842      0.6579\n",
       "Prevalence               0.5096        0.019231      0.4712\n",
       "Detection Rate           0.3558        0.009615      0.2212\n",
       "Detection Prevalence     0.4615        0.269231      0.2692\n",
       "Balanced Accuracy        0.7412        0.617647      0.6892"
      ]
     },
     "metadata": {},
     "output_type": "display_data"
    }
   ],
   "source": [
    "confusionMatrix(iq_test_labels, tree.iq_pred)"
   ]
  },
  {
   "cell_type": "code",
   "execution_count": 25,
   "metadata": {},
   "outputs": [
    {
     "data": {
      "text/plain": [
       "Confusion Matrix and Statistics\n",
       "\n",
       "          Reference\n",
       "Prediction Low Moderate High\n",
       "  Low      205        3  117\n",
       "  Moderate  26       15   61\n",
       "  High       9        8   76\n",
       "\n",
       "Overall Statistics\n",
       "                                          \n",
       "               Accuracy : 0.5692          \n",
       "                 95% CI : (0.5254, 0.6123)\n",
       "    No Information Rate : 0.4885          \n",
       "    P-Value [Acc > NIR] : 0.0001343       \n",
       "                                          \n",
       "                  Kappa : 0.2988          \n",
       "                                          \n",
       " Mcnemar's Test P-Value : < 2.2e-16       \n",
       "\n",
       "Statistics by Class:\n",
       "\n",
       "                     Class: Low Class: Moderate Class: High\n",
       "Sensitivity              0.8542         0.57692      0.2992\n",
       "Specificity              0.5714         0.82389      0.9361\n",
       "Pos Pred Value           0.6308         0.14706      0.8172\n",
       "Neg Pred Value           0.8205         0.97368      0.5831\n",
       "Prevalence               0.4615         0.05000      0.4885\n",
       "Detection Rate           0.3942         0.02885      0.1462\n",
       "Detection Prevalence     0.6250         0.19615      0.1788\n",
       "Balanced Accuracy        0.7128         0.70040      0.6177"
      ]
     },
     "metadata": {},
     "output_type": "display_data"
    }
   ],
   "source": [
    "confusionMatrix(sj_test_labels, tree.sj_pred)"
   ]
  },
  {
   "cell_type": "code",
   "execution_count": 26,
   "metadata": {},
   "outputs": [
    {
     "data": {
      "text/plain": [
       "Confusion Matrix and Statistics\n",
       "\n",
       "          Reference\n",
       "Prediction Low Moderate High\n",
       "  Low      122        2   16\n",
       "  Moderate  41        7   22\n",
       "  High      35        9   37\n",
       "\n",
       "Overall Statistics\n",
       "                                          \n",
       "               Accuracy : 0.5704          \n",
       "                 95% CI : (0.5114, 0.6281)\n",
       "    No Information Rate : 0.6804          \n",
       "    P-Value [Acc > NIR] : 1               \n",
       "                                          \n",
       "                  Kappa : 0.267           \n",
       "                                          \n",
       " Mcnemar's Test P-Value : 2.234e-10       \n",
       "\n",
       "Statistics by Class:\n",
       "\n",
       "                     Class: Low Class: Moderate Class: High\n",
       "Sensitivity              0.6162         0.38889      0.4933\n",
       "Specificity              0.8065         0.76923      0.7963\n",
       "Pos Pred Value           0.8714         0.10000      0.4568\n",
       "Neg Pred Value           0.4967         0.95023      0.8190\n",
       "Prevalence               0.6804         0.06186      0.2577\n",
       "Detection Rate           0.4192         0.02405      0.1271\n",
       "Detection Prevalence     0.4811         0.24055      0.2784\n",
       "Balanced Accuracy        0.7113         0.57906      0.6448"
      ]
     },
     "metadata": {},
     "output_type": "display_data"
    }
   ],
   "source": [
    "confusionMatrix(X_test_labels, tree.X_pred)"
   ]
  }
 ],
 "metadata": {
  "kernelspec": {
   "display_name": "R",
   "language": "R",
   "name": "ir"
  },
  "language_info": {
   "codemirror_mode": "r",
   "file_extension": ".r",
   "mimetype": "text/x-r-source",
   "name": "R",
   "pygments_lexer": "r",
   "version": "4.1.1"
  },
  "orig_nbformat": 4
 },
 "nbformat": 4,
 "nbformat_minor": 2
}
